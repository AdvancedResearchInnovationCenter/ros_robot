{
 "cells": [
  {
   "cell_type": "code",
   "execution_count": 1,
   "metadata": {},
   "outputs": [],
   "source": [
    "from math import degrees\n",
    "from socket import setdefaulttimeout\n",
    "from turtle import pos\n",
    "from mitsubishi import MITSUBISHI\n",
    "import rospy\n",
    "from robot_base import Robot\n",
    "import numpy as np\n",
    "from scipy.spatial.transform import Rotation as R\n",
    "from multiprocessing import Process, Array\n",
    "\n"
   ]
  },
  {
   "cell_type": "code",
   "execution_count": 10,
   "metadata": {},
   "outputs": [
    {
     "name": "stdout",
     "output_type": "stream",
     "text": [
      "[[ 2.22044605e-16 -1.00000000e+00  0.00000000e+00]\n",
      " [-1.00000000e+00 -2.22044605e-16 -1.22464680e-16]\n",
      " [ 1.22464680e-16  2.46519033e-32 -1.00000000e+00]]\n"
     ]
    }
   ],
   "source": [
    "\n",
    "rot_mat = R.from_euler('zyx', [90, 0, 180], degrees=True).as_matrix()\n",
    "print(rot_mat)"
   ]
  },
  {
   "cell_type": "code",
   "execution_count": 8,
   "metadata": {},
   "outputs": [
    {
     "name": "stdout",
     "output_type": "stream",
     "text": [
      "[[ 2.22044605e-16 -1.00000000e+00  0.00000000e+00]\n",
      " [-1.00000000e+00 -2.22044605e-16 -1.22464680e-16]\n",
      " [ 1.22464680e-16  2.46519033e-32 -1.00000000e+00]]\n"
     ]
    }
   ],
   "source": [
    "\n",
    "rot_mat = R.from_euler('XYZ', [180, 0, 90], degrees=True).as_matrix()\n",
    "print(rot_mat)"
   ]
  },
  {
   "cell_type": "code",
   "execution_count": 1,
   "metadata": {},
   "outputs": [],
   "source": [
    "from math import degrees\n",
    "from socket import setdefaulttimeout\n",
    "from turtle import pos\n",
    "from mitsubishi import MITSUBISHI\n",
    "import rospy\n",
    "from robot_base import Robot\n",
    "import numpy as np\n",
    "from scipy.spatial.transform import Rotation as R\n",
    "from multiprocessing import Process, Array\n"
   ]
  },
  {
   "cell_type": "code",
   "execution_count": 2,
   "metadata": {},
   "outputs": [],
   "source": [
    "\n",
    "\n",
    "robot = MITSUBISHI('192.168.0.20')\n",
    "\n",
    "\n",
    "\n",
    "robot.activate_control(True)\n",
    "robot.activate_servo(True)\n",
    "robot.start_program()"
   ]
  },
  {
   "cell_type": "code",
   "execution_count": 3,
   "metadata": {},
   "outputs": [],
   "source": [
    "robot.execute('J10 = (0.0, 0.0, 90.0, 0.0, 0.0, 0.0)')\n",
    "robot.execute('MOV J10')"
   ]
  }
 ],
 "metadata": {
  "kernelspec": {
   "display_name": "yolo",
   "language": "python",
   "name": "python3"
  },
  "language_info": {
   "codemirror_mode": {
    "name": "ipython",
    "version": 3
   },
   "file_extension": ".py",
   "mimetype": "text/x-python",
   "name": "python",
   "nbconvert_exporter": "python",
   "pygments_lexer": "ipython3",
   "version": "3.7.13"
  },
  "orig_nbformat": 4
 },
 "nbformat": 4,
 "nbformat_minor": 2
}
